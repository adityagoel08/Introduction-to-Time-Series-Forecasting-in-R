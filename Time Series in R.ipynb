{
 "cells": [
  {
   "cell_type": "code",
   "execution_count": 42,
   "metadata": {
    "slideshow": {
     "slide_type": "-"
    }
   },
   "outputs": [
    {
     "data": {
      "text/html": [
       "'D:/Folders/R/Time Series'"
      ],
      "text/latex": [
       "'D:/Folders/R/Time Series'"
      ],
      "text/markdown": [
       "'D:/Folders/R/Time Series'"
      ],
      "text/plain": [
       "[1] \"D:/Folders/R/Time Series\""
      ]
     },
     "metadata": {},
     "output_type": "display_data"
    }
   ],
   "source": [
    "#setting working directory\n",
    "getwd()\n",
    "setwd(\"D:/Folders/R/Time Series\")"
   ]
  },
  {
   "cell_type": "code",
   "execution_count": 43,
   "metadata": {},
   "outputs": [],
   "source": [
    "#installing and importing libraries\n",
    "\n",
    "library(tseries)\n",
    "library(dplyr)\n",
    "library(ggplot2)\n",
    "library(corrplot)\n",
    "library(forecast)\n",
    "library(zoo)\n",
    "library(roll)\n",
    "library(urca)\n",
    "library(xts)\n",
    "library(rlang)"
   ]
  },
  {
   "cell_type": "markdown",
   "metadata": {},
   "source": [
    "#DATA IMPORT AND CLEANING\n",
    "#importing data - taken from https://www.kaggle.com/andreazzini/international-airline-passengers/data\n",
    "#fileencoding allows to read the characters as correctly as they would appear on the raw dataset\n",
    "#na.strings allows to replace blanks with NAs\n"
   ]
  },
  {
   "cell_type": "code",
   "execution_count": 45,
   "metadata": {},
   "outputs": [],
   "source": [
    "IntlAirPassengers4 <- read.csv(\"D:/Folders/R/Time Series/international-airline-passengers.csv\",fileEncoding=\"UTF-8-BOM\",na.strings = '..', stringsAsFactors =FALSE)\n"
   ]
  },
  {
   "cell_type": "code",
   "execution_count": 46,
   "metadata": {},
   "outputs": [
    {
     "data": {
      "text/html": [
       "<table>\n",
       "<thead><tr><th scope=col>monthly_passengers</th><th scope=col>Month</th></tr></thead>\n",
       "<tbody>\n",
       "\t<tr><td>112       </td><td>1949-01-01</td></tr>\n",
       "\t<tr><td>118       </td><td>1949-02-01</td></tr>\n",
       "\t<tr><td>132       </td><td>1949-03-01</td></tr>\n",
       "\t<tr><td>129       </td><td>1949-04-01</td></tr>\n",
       "\t<tr><td>121       </td><td>1949-05-01</td></tr>\n",
       "\t<tr><td>135       </td><td>1949-06-01</td></tr>\n",
       "\t<tr><td>148       </td><td>1949-07-01</td></tr>\n",
       "\t<tr><td>148       </td><td>1949-08-01</td></tr>\n",
       "\t<tr><td>136       </td><td>1949-09-01</td></tr>\n",
       "\t<tr><td>119       </td><td>1949-10-01</td></tr>\n",
       "\t<tr><td>104       </td><td>1949-11-01</td></tr>\n",
       "\t<tr><td>118       </td><td>1949-12-01</td></tr>\n",
       "\t<tr><td>115       </td><td>1950-01-01</td></tr>\n",
       "\t<tr><td>126       </td><td>1950-02-01</td></tr>\n",
       "\t<tr><td>141       </td><td>1950-03-01</td></tr>\n",
       "\t<tr><td>135       </td><td>1950-04-01</td></tr>\n",
       "\t<tr><td>125       </td><td>1950-05-01</td></tr>\n",
       "\t<tr><td>149       </td><td>1950-06-01</td></tr>\n",
       "\t<tr><td>170       </td><td>1950-07-01</td></tr>\n",
       "\t<tr><td>170       </td><td>1950-08-01</td></tr>\n",
       "\t<tr><td>158       </td><td>1950-09-01</td></tr>\n",
       "\t<tr><td>133       </td><td>1950-10-01</td></tr>\n",
       "\t<tr><td>114       </td><td>1950-11-01</td></tr>\n",
       "\t<tr><td>140       </td><td>1950-12-01</td></tr>\n",
       "\t<tr><td>145       </td><td>1951-01-01</td></tr>\n",
       "\t<tr><td>150       </td><td>1951-02-01</td></tr>\n",
       "\t<tr><td>178       </td><td>1951-03-01</td></tr>\n",
       "\t<tr><td>163       </td><td>1951-04-01</td></tr>\n",
       "\t<tr><td>172       </td><td>1951-05-01</td></tr>\n",
       "\t<tr><td>178       </td><td>1951-06-01</td></tr>\n",
       "\t<tr><td>...</td><td>...</td></tr>\n",
       "\t<tr><td>491       </td><td>1958-07-01</td></tr>\n",
       "\t<tr><td>505       </td><td>1958-08-01</td></tr>\n",
       "\t<tr><td>404       </td><td>1958-09-01</td></tr>\n",
       "\t<tr><td>359       </td><td>1958-10-01</td></tr>\n",
       "\t<tr><td>310       </td><td>1958-11-01</td></tr>\n",
       "\t<tr><td>337       </td><td>1958-12-01</td></tr>\n",
       "\t<tr><td>360       </td><td>1959-01-01</td></tr>\n",
       "\t<tr><td>342       </td><td>1959-02-01</td></tr>\n",
       "\t<tr><td>406       </td><td>1959-03-01</td></tr>\n",
       "\t<tr><td>396       </td><td>1959-04-01</td></tr>\n",
       "\t<tr><td>420       </td><td>1959-05-01</td></tr>\n",
       "\t<tr><td>472       </td><td>1959-06-01</td></tr>\n",
       "\t<tr><td>548       </td><td>1959-07-01</td></tr>\n",
       "\t<tr><td>559       </td><td>1959-08-01</td></tr>\n",
       "\t<tr><td>463       </td><td>1959-09-01</td></tr>\n",
       "\t<tr><td>407       </td><td>1959-10-01</td></tr>\n",
       "\t<tr><td>362       </td><td>1959-11-01</td></tr>\n",
       "\t<tr><td>405       </td><td>1959-12-01</td></tr>\n",
       "\t<tr><td>417       </td><td>1960-01-01</td></tr>\n",
       "\t<tr><td>391       </td><td>1960-02-01</td></tr>\n",
       "\t<tr><td>419       </td><td>1960-03-01</td></tr>\n",
       "\t<tr><td>461       </td><td>1960-04-01</td></tr>\n",
       "\t<tr><td>472       </td><td>1960-05-01</td></tr>\n",
       "\t<tr><td>535       </td><td>1960-06-01</td></tr>\n",
       "\t<tr><td>622       </td><td>1960-07-01</td></tr>\n",
       "\t<tr><td>606       </td><td>1960-08-01</td></tr>\n",
       "\t<tr><td>508       </td><td>1960-09-01</td></tr>\n",
       "\t<tr><td>461       </td><td>1960-10-01</td></tr>\n",
       "\t<tr><td>390       </td><td>1960-11-01</td></tr>\n",
       "\t<tr><td>432       </td><td>1960-12-01</td></tr>\n",
       "</tbody>\n",
       "</table>\n"
      ],
      "text/latex": [
       "\\begin{tabular}{r|ll}\n",
       " monthly\\_passengers & Month\\\\\n",
       "\\hline\n",
       "\t 112        & 1949-01-01\\\\\n",
       "\t 118        & 1949-02-01\\\\\n",
       "\t 132        & 1949-03-01\\\\\n",
       "\t 129        & 1949-04-01\\\\\n",
       "\t 121        & 1949-05-01\\\\\n",
       "\t 135        & 1949-06-01\\\\\n",
       "\t 148        & 1949-07-01\\\\\n",
       "\t 148        & 1949-08-01\\\\\n",
       "\t 136        & 1949-09-01\\\\\n",
       "\t 119        & 1949-10-01\\\\\n",
       "\t 104        & 1949-11-01\\\\\n",
       "\t 118        & 1949-12-01\\\\\n",
       "\t 115        & 1950-01-01\\\\\n",
       "\t 126        & 1950-02-01\\\\\n",
       "\t 141        & 1950-03-01\\\\\n",
       "\t 135        & 1950-04-01\\\\\n",
       "\t 125        & 1950-05-01\\\\\n",
       "\t 149        & 1950-06-01\\\\\n",
       "\t 170        & 1950-07-01\\\\\n",
       "\t 170        & 1950-08-01\\\\\n",
       "\t 158        & 1950-09-01\\\\\n",
       "\t 133        & 1950-10-01\\\\\n",
       "\t 114        & 1950-11-01\\\\\n",
       "\t 140        & 1950-12-01\\\\\n",
       "\t 145        & 1951-01-01\\\\\n",
       "\t 150        & 1951-02-01\\\\\n",
       "\t 178        & 1951-03-01\\\\\n",
       "\t 163        & 1951-04-01\\\\\n",
       "\t 172        & 1951-05-01\\\\\n",
       "\t 178        & 1951-06-01\\\\\n",
       "\t ... & ...\\\\\n",
       "\t 491        & 1958-07-01\\\\\n",
       "\t 505        & 1958-08-01\\\\\n",
       "\t 404        & 1958-09-01\\\\\n",
       "\t 359        & 1958-10-01\\\\\n",
       "\t 310        & 1958-11-01\\\\\n",
       "\t 337        & 1958-12-01\\\\\n",
       "\t 360        & 1959-01-01\\\\\n",
       "\t 342        & 1959-02-01\\\\\n",
       "\t 406        & 1959-03-01\\\\\n",
       "\t 396        & 1959-04-01\\\\\n",
       "\t 420        & 1959-05-01\\\\\n",
       "\t 472        & 1959-06-01\\\\\n",
       "\t 548        & 1959-07-01\\\\\n",
       "\t 559        & 1959-08-01\\\\\n",
       "\t 463        & 1959-09-01\\\\\n",
       "\t 407        & 1959-10-01\\\\\n",
       "\t 362        & 1959-11-01\\\\\n",
       "\t 405        & 1959-12-01\\\\\n",
       "\t 417        & 1960-01-01\\\\\n",
       "\t 391        & 1960-02-01\\\\\n",
       "\t 419        & 1960-03-01\\\\\n",
       "\t 461        & 1960-04-01\\\\\n",
       "\t 472        & 1960-05-01\\\\\n",
       "\t 535        & 1960-06-01\\\\\n",
       "\t 622        & 1960-07-01\\\\\n",
       "\t 606        & 1960-08-01\\\\\n",
       "\t 508        & 1960-09-01\\\\\n",
       "\t 461        & 1960-10-01\\\\\n",
       "\t 390        & 1960-11-01\\\\\n",
       "\t 432        & 1960-12-01\\\\\n",
       "\\end{tabular}\n"
      ],
      "text/markdown": [
       "\n",
       "| monthly_passengers | Month |\n",
       "|---|---|\n",
       "| 112        | 1949-01-01 |\n",
       "| 118        | 1949-02-01 |\n",
       "| 132        | 1949-03-01 |\n",
       "| 129        | 1949-04-01 |\n",
       "| 121        | 1949-05-01 |\n",
       "| 135        | 1949-06-01 |\n",
       "| 148        | 1949-07-01 |\n",
       "| 148        | 1949-08-01 |\n",
       "| 136        | 1949-09-01 |\n",
       "| 119        | 1949-10-01 |\n",
       "| 104        | 1949-11-01 |\n",
       "| 118        | 1949-12-01 |\n",
       "| 115        | 1950-01-01 |\n",
       "| 126        | 1950-02-01 |\n",
       "| 141        | 1950-03-01 |\n",
       "| 135        | 1950-04-01 |\n",
       "| 125        | 1950-05-01 |\n",
       "| 149        | 1950-06-01 |\n",
       "| 170        | 1950-07-01 |\n",
       "| 170        | 1950-08-01 |\n",
       "| 158        | 1950-09-01 |\n",
       "| 133        | 1950-10-01 |\n",
       "| 114        | 1950-11-01 |\n",
       "| 140        | 1950-12-01 |\n",
       "| 145        | 1951-01-01 |\n",
       "| 150        | 1951-02-01 |\n",
       "| 178        | 1951-03-01 |\n",
       "| 163        | 1951-04-01 |\n",
       "| 172        | 1951-05-01 |\n",
       "| 178        | 1951-06-01 |\n",
       "| ... | ... |\n",
       "| 491        | 1958-07-01 |\n",
       "| 505        | 1958-08-01 |\n",
       "| 404        | 1958-09-01 |\n",
       "| 359        | 1958-10-01 |\n",
       "| 310        | 1958-11-01 |\n",
       "| 337        | 1958-12-01 |\n",
       "| 360        | 1959-01-01 |\n",
       "| 342        | 1959-02-01 |\n",
       "| 406        | 1959-03-01 |\n",
       "| 396        | 1959-04-01 |\n",
       "| 420        | 1959-05-01 |\n",
       "| 472        | 1959-06-01 |\n",
       "| 548        | 1959-07-01 |\n",
       "| 559        | 1959-08-01 |\n",
       "| 463        | 1959-09-01 |\n",
       "| 407        | 1959-10-01 |\n",
       "| 362        | 1959-11-01 |\n",
       "| 405        | 1959-12-01 |\n",
       "| 417        | 1960-01-01 |\n",
       "| 391        | 1960-02-01 |\n",
       "| 419        | 1960-03-01 |\n",
       "| 461        | 1960-04-01 |\n",
       "| 472        | 1960-05-01 |\n",
       "| 535        | 1960-06-01 |\n",
       "| 622        | 1960-07-01 |\n",
       "| 606        | 1960-08-01 |\n",
       "| 508        | 1960-09-01 |\n",
       "| 461        | 1960-10-01 |\n",
       "| 390        | 1960-11-01 |\n",
       "| 432        | 1960-12-01 |\n",
       "\n"
      ],
      "text/plain": [
       "    monthly_passengers Month     \n",
       "1   112                1949-01-01\n",
       "2   118                1949-02-01\n",
       "3   132                1949-03-01\n",
       "4   129                1949-04-01\n",
       "5   121                1949-05-01\n",
       "6   135                1949-06-01\n",
       "7   148                1949-07-01\n",
       "8   148                1949-08-01\n",
       "9   136                1949-09-01\n",
       "10  119                1949-10-01\n",
       "11  104                1949-11-01\n",
       "12  118                1949-12-01\n",
       "13  115                1950-01-01\n",
       "14  126                1950-02-01\n",
       "15  141                1950-03-01\n",
       "16  135                1950-04-01\n",
       "17  125                1950-05-01\n",
       "18  149                1950-06-01\n",
       "19  170                1950-07-01\n",
       "20  170                1950-08-01\n",
       "21  158                1950-09-01\n",
       "22  133                1950-10-01\n",
       "23  114                1950-11-01\n",
       "24  140                1950-12-01\n",
       "25  145                1951-01-01\n",
       "26  150                1951-02-01\n",
       "27  178                1951-03-01\n",
       "28  163                1951-04-01\n",
       "29  172                1951-05-01\n",
       "30  178                1951-06-01\n",
       "... ...                ...       \n",
       "115 491                1958-07-01\n",
       "116 505                1958-08-01\n",
       "117 404                1958-09-01\n",
       "118 359                1958-10-01\n",
       "119 310                1958-11-01\n",
       "120 337                1958-12-01\n",
       "121 360                1959-01-01\n",
       "122 342                1959-02-01\n",
       "123 406                1959-03-01\n",
       "124 396                1959-04-01\n",
       "125 420                1959-05-01\n",
       "126 472                1959-06-01\n",
       "127 548                1959-07-01\n",
       "128 559                1959-08-01\n",
       "129 463                1959-09-01\n",
       "130 407                1959-10-01\n",
       "131 362                1959-11-01\n",
       "132 405                1959-12-01\n",
       "133 417                1960-01-01\n",
       "134 391                1960-02-01\n",
       "135 419                1960-03-01\n",
       "136 461                1960-04-01\n",
       "137 472                1960-05-01\n",
       "138 535                1960-06-01\n",
       "139 622                1960-07-01\n",
       "140 606                1960-08-01\n",
       "141 508                1960-09-01\n",
       "142 461                1960-10-01\n",
       "143 390                1960-11-01\n",
       "144 432                1960-12-01"
      ]
     },
     "metadata": {},
     "output_type": "display_data"
    }
   ],
   "source": [
    "#data cleaning\n",
    "IntlAirPassengers3 <- IntlAirPassengers4 %>%  rename(monthly_passengers = International.airline.passengers..monthly.totals.in.thousands..Jan.49...Dec.60,\n",
    "                                                     month_old = Month) \n",
    "\n",
    "IntlAirPassengers2 <- IntlAirPassengers3[-c(145),]\n",
    "\n",
    "#converting to datetime\n",
    "IntlAirPassengers2$Month <- as.Date(paste(IntlAirPassengers2$month_old,\"-01\",sep=\"\"))\n",
    "\n",
    "#removing unwanted rows\n",
    "IntlAirPassengers <- IntlAirPassengers2[,-c(1)]\n",
    "IntlAirPassengers"
   ]
  },
  {
   "cell_type": "code",
   "execution_count": 47,
   "metadata": {
    "scrolled": true
   },
   "outputs": [
    {
     "data": {
      "text/html": [
       "<ol class=list-inline>\n",
       "\t<li>'Month'</li>\n",
       "\t<li>'monthly_passengers'</li>\n",
       "</ol>\n"
      ],
      "text/latex": [
       "\\begin{enumerate*}\n",
       "\\item 'Month'\n",
       "\\item 'monthly\\_passengers'\n",
       "\\end{enumerate*}\n"
      ],
      "text/markdown": [
       "1. 'Month'\n",
       "2. 'monthly_passengers'\n",
       "\n",
       "\n"
      ],
      "text/plain": [
       "[1] \"Month\"              \"monthly_passengers\""
      ]
     },
     "metadata": {},
     "output_type": "display_data"
    },
    {
     "name": "stdout",
     "output_type": "stream",
     "text": [
      "'data.frame':\t144 obs. of  2 variables:\n",
      " $ monthly_passengers: int  112 118 132 129 121 135 148 148 136 119 ...\n",
      " $ Month             : Date, format: \"1949-01-01\" \"1949-02-01\" ...\n"
     ]
    },
    {
     "data": {
      "text/html": [
       "<ol class=list-inline>\n",
       "\t<li>144</li>\n",
       "\t<li>2</li>\n",
       "</ol>\n"
      ],
      "text/latex": [
       "\\begin{enumerate*}\n",
       "\\item 144\n",
       "\\item 2\n",
       "\\end{enumerate*}\n"
      ],
      "text/markdown": [
       "1. 144\n",
       "2. 2\n",
       "\n",
       "\n"
      ],
      "text/plain": [
       "[1] 144   2"
      ]
     },
     "metadata": {},
     "output_type": "display_data"
    },
    {
     "data": {
      "text/html": [
       "'data.frame'"
      ],
      "text/latex": [
       "'data.frame'"
      ],
      "text/markdown": [
       "'data.frame'"
      ],
      "text/plain": [
       "[1] \"data.frame\""
      ]
     },
     "metadata": {},
     "output_type": "display_data"
    },
    {
     "data": {
      "text/html": [
       "<table>\n",
       "<thead><tr><th scope=col>monthly_passengers</th><th scope=col>Month</th></tr></thead>\n",
       "<tbody>\n",
       "\t<tr><td>112       </td><td>1949-01-01</td></tr>\n",
       "\t<tr><td>118       </td><td>1949-02-01</td></tr>\n",
       "\t<tr><td>132       </td><td>1949-03-01</td></tr>\n",
       "\t<tr><td>129       </td><td>1949-04-01</td></tr>\n",
       "\t<tr><td>121       </td><td>1949-05-01</td></tr>\n",
       "\t<tr><td>135       </td><td>1949-06-01</td></tr>\n",
       "\t<tr><td>148       </td><td>1949-07-01</td></tr>\n",
       "\t<tr><td>148       </td><td>1949-08-01</td></tr>\n",
       "\t<tr><td>136       </td><td>1949-09-01</td></tr>\n",
       "\t<tr><td>119       </td><td>1949-10-01</td></tr>\n",
       "</tbody>\n",
       "</table>\n"
      ],
      "text/latex": [
       "\\begin{tabular}{r|ll}\n",
       " monthly\\_passengers & Month\\\\\n",
       "\\hline\n",
       "\t 112        & 1949-01-01\\\\\n",
       "\t 118        & 1949-02-01\\\\\n",
       "\t 132        & 1949-03-01\\\\\n",
       "\t 129        & 1949-04-01\\\\\n",
       "\t 121        & 1949-05-01\\\\\n",
       "\t 135        & 1949-06-01\\\\\n",
       "\t 148        & 1949-07-01\\\\\n",
       "\t 148        & 1949-08-01\\\\\n",
       "\t 136        & 1949-09-01\\\\\n",
       "\t 119        & 1949-10-01\\\\\n",
       "\\end{tabular}\n"
      ],
      "text/markdown": [
       "\n",
       "| monthly_passengers | Month |\n",
       "|---|---|\n",
       "| 112        | 1949-01-01 |\n",
       "| 118        | 1949-02-01 |\n",
       "| 132        | 1949-03-01 |\n",
       "| 129        | 1949-04-01 |\n",
       "| 121        | 1949-05-01 |\n",
       "| 135        | 1949-06-01 |\n",
       "| 148        | 1949-07-01 |\n",
       "| 148        | 1949-08-01 |\n",
       "| 136        | 1949-09-01 |\n",
       "| 119        | 1949-10-01 |\n",
       "\n"
      ],
      "text/plain": [
       "   monthly_passengers Month     \n",
       "1  112                1949-01-01\n",
       "2  118                1949-02-01\n",
       "3  132                1949-03-01\n",
       "4  129                1949-04-01\n",
       "5  121                1949-05-01\n",
       "6  135                1949-06-01\n",
       "7  148                1949-07-01\n",
       "8  148                1949-08-01\n",
       "9  136                1949-09-01\n",
       "10 119                1949-10-01"
      ]
     },
     "metadata": {},
     "output_type": "display_data"
    },
    {
     "data": {
      "text/plain": [
       " monthly_passengers     Month           \n",
       " Min.   :104.0      Min.   :1949-01-01  \n",
       " 1st Qu.:180.0      1st Qu.:1951-12-24  \n",
       " Median :265.5      Median :1954-12-16  \n",
       " Mean   :280.3      Mean   :1954-12-16  \n",
       " 3rd Qu.:360.5      3rd Qu.:1957-12-08  \n",
       " Max.   :622.0      Max.   :1960-12-01  "
      ]
     },
     "metadata": {},
     "output_type": "display_data"
    },
    {
     "name": "stdout",
     "output_type": "stream",
     "text": [
      "\n",
      "Time period start:  1949-01-01\n",
      "Time period end:  1960-12-01"
     ]
    }
   ],
   "source": [
    "\n",
    "# CHECKING THE DATA – MEASURES OF CENTRAL TENDENCY AND DATA TYPES\n",
    "### list objects in the working environment\n",
    "ls(IntlAirPassengers)\n",
    "\n",
    "### list the structure of IntlAirPassengers\n",
    "str(IntlAirPassengers)\n",
    "\n",
    "### dimensions of an object\n",
    "dim(IntlAirPassengers)\n",
    "\n",
    "### class of an object (numeric, matrix, data frame, etc)\n",
    "class(IntlAirPassengers)\n",
    "\n",
    "### print first 10 rows of mydata\n",
    "head(IntlAirPassengers, n=10)\n",
    "summary(IntlAirPassengers)\n",
    "\n",
    "#printing max and min time period\n",
    "strtdt <- min(IntlAirPassengers$Month)\n",
    "enddt <- max(IntlAirPassengers$Month)\n",
    "cat(\"\\nTime period start: \", as.character(strtdt))\n",
    "cat(\"\\nTime period end: \", as.character(enddt))\n"
   ]
  },
  {
   "cell_type": "code",
   "execution_count": 48,
   "metadata": {
    "scrolled": true
   },
   "outputs": [],
   "source": [
    "#DATA VISUALIZATION FOR INSPECTION\n",
    "#in case there are multiple columns, we may need to combine them to see a boxplot\n"
   ]
  },
  {
   "cell_type": "code",
   "execution_count": 49,
   "metadata": {},
   "outputs": [
    {
     "name": "stderr",
     "output_type": "stream",
     "text": [
      "Warning message:\n",
      "\"Use of `IntlAirPassengers$monthly_passenger` is discouraged. Use `monthly_passenger` instead.\"Warning message:\n",
      "\"Use of `IntlAirPassengers$monthly_passenger` is discouraged. Use `monthly_passenger` instead.\""
     ]
    },
    {
     "data": {
      "image/png": "[encoded data removed]",
      "text/plain": [
       "plot without title"
      ]
     },
     "metadata": {},
     "output_type": "display_data"
    }
   ],
   "source": [
    "\n",
    "#barplot\n",
    "ggplot(data = IntlAirPassengers, mapping = aes(x=IntlAirPassengers$monthly_passenger)) + \n",
    "  geom_histogram(aes(y=..density..),fill=\"blue\",color=\"white\",alpha=0.7,binwidth=50) + \n",
    "  geom_density() +\n",
    "  labs(x='# passengers') +\n",
    "  theme_minimal()"
   ]
  },
  {
   "cell_type": "code",
   "execution_count": 50,
   "metadata": {},
   "outputs": [
    {
     "data": {
      "image/png": "[encoded data removed]",
      "text/plain": [
       "plot without title"
      ]
     },
     "metadata": {},
     "output_type": "display_data"
    },
    {
     "data": {
      "image/png": "[encoded data removed]",
      "text/plain": [
       "plot without title"
      ]
     },
     "metadata": {},
     "output_type": "display_data"
    }
   ],
   "source": [
    "#boxplot by years\n",
    "#Median values across years confirms an upwards trend\n",
    "#Steady increase in the spread, or middle 50% of the data (boxes) over time\n",
    "#A model considering seasonality might work well\n",
    "# Boxplot across the months will give us a sense of the seasonal effects\n",
    "year <- as.numeric(format(IntlAirPassengers$Month,'%Y'))\n",
    "boxplot(IntlAirPassengers$monthly_passengers~year, col=c(1:12), ylab = \"# passengers\")\n",
    "\n",
    "monthly <- as.numeric(format(IntlAirPassengers$Month,'%m'))\n",
    "boxplot(IntlAirPassengers$monthly_passengers~monthly, col=monthly, ylab = \"# passengers\")"
   ]
  },
  {
   "cell_type": "code",
   "execution_count": 51,
   "metadata": {
    "scrolled": true
   },
   "outputs": [
    {
     "data": {
      "image/png": "[encoded data removed]",
      "text/plain": [
       "plot without title"
      ]
     },
     "metadata": {},
     "output_type": "display_data"
    }
   ],
   "source": [
    "# checking normal distribution. data is right skewed, not perfectly Gaussian (normal), transformations might be helpful\n",
    "x <- IntlAirPassengers$monthly_passengers\n",
    "y <- dnorm(IntlAirPassengers$monthly_passengers, mean = mean(IntlAirPassengers$monthly_passengers), sd = sd(IntlAirPassengers$monthly_passengers))\n",
    "plot(x,y, type = \"l\")\n"
   ]
  },
  {
   "cell_type": "code",
   "execution_count": 52,
   "metadata": {
    "scrolled": true
   },
   "outputs": [
    {
     "data": {
      "text/html": [
       "1"
      ],
      "text/latex": [
       "1"
      ],
      "text/markdown": [
       "1"
      ],
      "text/plain": [
       "[1] 1"
      ]
     },
     "metadata": {},
     "output_type": "display_data"
    }
   ],
   "source": [
    "# CHECKING THE DATA FREQUENCY\n",
    "frequency(IntlAirPassengers$monthly_passengers)\n"
   ]
  },
  {
   "cell_type": "code",
   "execution_count": null,
   "metadata": {},
   "outputs": [],
   "source": [
    "#DECOMPOSING THE DATA TO CHECK THE TREND, SEASONALITY AND RANDOM NOISE\n",
    "#Seasonal: Patterns that repeat with a fixed period of time. For example, a website might receive more visits during weekends; this would produce data with a seasonality of 7 days.\n",
    "#Trend: The underlying trend of the metrics. A website increasing in popularity should show a general trend that goes up.\n",
    "#Random: Also call “noise”, “irregular” or “remainder,” this is the residuals of the original time series after the seasonal and trend series are removed.\n",
    "#Additive decomposition = Seasonal + Trend + Random\n",
    "##Multiplicative decomposition = Seasonal * Trend * Random\n"
   ]
  },
  {
   "cell_type": "code",
   "execution_count": 53,
   "metadata": {},
   "outputs": [
    {
     "data": {
      "image/png": "[encoded data removed]",
      "text/plain": [
       "Plot with title \"Seasonality\""
      ]
     },
     "metadata": {},
     "output_type": "display_data"
    },
    {
     "data": {
      "image/png": "[encoded data removed]",
      "text/plain": [
       "Plot with title \"Randomness\""
      ]
     },
     "metadata": {},
     "output_type": "display_data"
    }
   ],
   "source": [
    "# TO DETECT TREND\n",
    "\n",
    "ts_air <- ts(IntlAirPassengers$monthly_passengers, frequency = 12)\n",
    "decompose_air <- decompose(ts_air, \"multiplicative\")\n",
    "par(mfrow=c(2,1))\n",
    "# Line graph\n",
    "plot(IntlAirPassengers$Month,IntlAirPassengers$monthly_passengers, type=\"l\", col=\"blue\", xlab = \"time\", ylab = \"# passengers\", main = \"Airline passengers over time\")\n",
    "plot(as.ts(decompose_air$seasonal), main = \"Seasonality\", type=\"l\", col=\"blue\")\n",
    "plot(as.ts(decompose_air$trend), main = \"Trend\", type=\"l\", col=\"blue\")\n",
    "plot(as.ts(decompose_air$random), main = \"Randomness\", type=\"l\", col=\"blue\")\n",
    "par(mfrow=c(1,1))"
   ]
  },
  {
   "cell_type": "markdown",
   "metadata": {},
   "source": [
    "#Stationarity\n",
    "#A Time Series is said to be stationary if its statistical properties such as mean, variance remain constant over time.\n",
    "#Most of the Time Series models work on the assumption that the TS is stationary. Major reason for this is that there are many ways in which a series can be non-stationary, but only one way for stationarity.\n",
    "#Intuitively, we can say that if a Time Series has a particular behaviour over time, there is a very high probability that it will follow the same in the future.\n",
    "#Also, the theories related to stationary series are more mature and easier to implement as compared to non-stationary series.\n"
   ]
  },
  {
   "cell_type": "markdown",
   "metadata": {},
   "source": [
    "#We can check stationarity using the following:\n",
    "  \n",
    "#ACF and PACF plots: If the time series is stationary, the ACF/PACF plots will show a quick drop-off in correlation after a small amount of lag between points.\n",
    "#Plotting Rolling Statistics: We can plot the moving average or moving variance and see if it varies with time. Moving average/variance is for any instant ‘t’, the average/variance of the last year, i.e. last 12 months.\n",
    "#Augmented Dickey-Fuller Test: This is one of the statistical tests for checking stationarity. Here the null hypothesis is that the TS is non-stationary. The test results comprise of a Test Statistic and some Critical Values for difference confidence levels. \n",
    "#If the ‘Test Statistic’ is less than the ‘Critical Value’, we can reject the null hypothesis and say that the series is stationary. Refer this article for details.\n"
   ]
  },
  {
   "cell_type": "markdown",
   "metadata": {},
   "source": [
    "\n",
    "#ACF and PACF plots\n",
    "#Let's review the Autocorrelation Function (ACF) and Partial Autocorrelation Function (PACF) plots\n",
    "#If the time series is stationary, the ACF/PACF plots will show a quick drop-off in correlation after a small amount of lag between points.\n",
    "#This data is non-stationary as a high number of previous observations are correlated with future values.\n",
    "#Confidence intervals are drawn as a cone.\n",
    "#By default, this is set to a 95% confidence interval, suggesting that correlation values outside of this code are very likely a correlation and not a statistical fluke.\n",
    "#The partial autocorrelation at lag k is the correlation that results after removing the effect of any correlations due to the terms at shorter lags.\n"
   ]
  },
  {
   "cell_type": "code",
   "execution_count": 54,
   "metadata": {
    "scrolled": true
   },
   "outputs": [
    {
     "data": {
      "image/png": "[encoded data removed]",
      "text/plain": [
       "Plot with title \"ACF Plot\""
      ]
     },
     "metadata": {},
     "output_type": "display_data"
    },
    {
     "data": {
      "image/png": "[encoded data removed]",
      "text/plain": [
       "Plot with title \"PACF Plot\""
      ]
     },
     "metadata": {},
     "output_type": "display_data"
    }
   ],
   "source": [
    "acf(IntlAirPassengers$monthly_passengers, main = \"ACF Plot\")\n",
    "pacf(IntlAirPassengers$monthly_passengers, main = \"PACF Plot\")"
   ]
  },
  {
   "cell_type": "markdown",
   "metadata": {},
   "source": [
    "#Clearly, the decay of ACF chart is very slow, which means that the population is not stationary."
   ]
  },
  {
   "cell_type": "markdown",
   "metadata": {},
   "source": [
    "#Plotting Rolling Statistics\n",
    "#We observe that the rolling mean and Standard deviation are not constant with respect to time (increasing trend)\n",
    "#The time series is hence not stationary"
   ]
  }
 ],
 "metadata": {
  "kernelspec": {
   "display_name": "R",
   "language": "R",
   "name": "ir"
  },
  "language_info": {
   "codemirror_mode": "r",
   "file_extension": ".r",
   "mimetype": "text/x-r-source",
   "name": "R",
   "pygments_lexer": "r",
   "version": "3.6.1"
  }
 },
 "nbformat": 4,
 "nbformat_minor": 2
}
